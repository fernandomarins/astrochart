{
 "cells": [
  {
   "cell_type": "markdown",
   "id": "327a8ef1",
   "metadata": {},
   "source": [
    "# AstroChart\n",
    "\n",
    "## 1. Business Problem\n",
    "\n",
    "AstroChart é um web app que fornece todas as características do mapa astral.\n",
    "\n",
    "Os sites de hoje tem uma interpretação um pouco errônea sobre os posicionamentos planetários, por isso o AstroChart tem o objetivo de trazer algo mais próximo da realidade.\n",
    "\n",
    "## 2. Business Assumptions"
   ]
  },
  {
   "cell_type": "markdown",
   "id": "1f326c97",
   "metadata": {},
   "source": [
    "# ENTENDIMENTO DO NEGÓCIO"
   ]
  },
  {
   "cell_type": "markdown",
   "id": "251a8508",
   "metadata": {},
   "source": [
    "Produto final:\n",
    "\n",
    "    - Um web app no Streamlit onde o usuário pode colocar a data e o loca de nascimento e recebe as informações necessárias\n",
    "    \n",
    "Ferramentas:\n",
    "\n",
    "    - Python 3.8\n",
    "    - Jupyter Notebook\n",
    "    - Sublime\n",
    "    - Biblioteca Flatlib\n",
    "    \n",
    "Processo:\n",
    "\n",
    "    - Converter local de nascimento para o tipo de dado que a biblioteca Flatlib precisa para retornar os dados necessários do mapa astral\n",
    "    - Implementar a API do Flatlib\n",
    "    - Testar\n",
    "    - Implementar os resultados no Streamlit"
   ]
  },
  {
   "cell_type": "code",
   "execution_count": 9,
   "id": "e51566fd",
   "metadata": {},
   "outputs": [],
   "source": [
    "from flatlib.datetime import Datetime\n",
    "from flatlib.geopos import GeoPos\n",
    "from flatlib.chart import Chart\n",
    "from flatlib import const\n",
    "from geopy.geocoders import Nominatim"
   ]
  },
  {
   "cell_type": "code",
   "execution_count": 80,
   "id": "2b5132e8",
   "metadata": {},
   "outputs": [],
   "source": [
    "def convert_coordinates(x, y):\n",
    "    \n",
    "    # check if the value is negative\n",
    "    if x < 0:\n",
    "        # convert to str\n",
    "        x = str(x)\n",
    "        # drop the first character\n",
    "        x = x[1:]\n",
    "        # split into two parts\n",
    "        x = x.split('.')\n",
    "        # addin the s letter for south\n",
    "        x = x[0] + 's' +  x[1]\n",
    "    else:\n",
    "        x = str(x)\n",
    "        x = x.split('.')\n",
    "        # if it's not negative, then add the letter n\n",
    "        x = x[0] + 'n' +  x[1]\n",
    "    if y < 0:\n",
    "        y = str(y)\n",
    "        y = y[1:]\n",
    "        y = y.split('.')\n",
    "        # here we need to add the letter e, for east\n",
    "        y = y[0] + 'e' +  y[1]\n",
    "    else:\n",
    "        y = str(y)\n",
    "        print(y)\n",
    "        y = y.split('.')\n",
    "        print(y)\n",
    "        # here we add the letter w for west\n",
    "        y = y[0] + 'w' +  y[1]\n",
    "        print(y)\n",
    "    \n",
    "    return (x, y)\n",
    "\n",
    "def return_coordinates(local):\n",
    "    geolocator = Nominatim(user_agent='geo')\n",
    "    location = geolocator.geocode(local, timeout=10000)\n",
    "    return (location.latitude, location.longitude)\n",
    "\n",
    "def translate_sign(sign):\n",
    "    dictionary = {\n",
    "        'Aries': 'Áries',\n",
    "        'Taurus': 'Touro',\n",
    "        'Gemini': 'Gêmeos',\n",
    "        'Cancer': 'Câncer',\n",
    "        'Leo': 'Leão',\n",
    "        'Virgo': 'Virgem',\n",
    "        'Libra': 'Libra',\n",
    "        'Scorpio': 'Escorpião',\n",
    "        'Sagittarius': 'Sagitário',\n",
    "        'Capricorn': 'Capricórnio',\n",
    "        'Aquarius': 'Aquário',\n",
    "        'Piscis': 'Peixes'\n",
    "    }\n",
    "    \n",
    "    return dictionary[sign]"
   ]
  },
  {
   "cell_type": "code",
   "execution_count": 82,
   "id": "4b6b4969",
   "metadata": {},
   "outputs": [
    {
     "name": "stdout",
     "output_type": "stream",
     "text": [
      "Aquário\n"
     ]
    }
   ],
   "source": [
    "print(translate_sign(sun.sign))"
   ]
  },
  {
   "cell_type": "code",
   "execution_count": 56,
   "id": "ac30399a",
   "metadata": {},
   "outputs": [
    {
     "name": "stdout",
     "output_type": "stream",
     "text": [
      "('21s7886713', '48e1773096')\n"
     ]
    }
   ],
   "source": [
    "local = 'Araraquara'\n",
    "lat, long = return_coordinates(local)\n",
    "coord = convert_coordinates(lat, long)\n",
    "print(coord)"
   ]
  },
  {
   "cell_type": "code",
   "execution_count": 74,
   "id": "13990ab0",
   "metadata": {},
   "outputs": [
    {
     "name": "stdout",
     "output_type": "stream",
     "text": [
      "<class 'str'>\n"
     ]
    }
   ],
   "source": [
    "date = Datetime('1991/02/05', '18:31')\n",
    "#pos = GeoPos('21s7886713', '48e1773096')\n",
    "pos = GeoPos(coord[0], coord[1])\n",
    "chart = Chart(date, pos)\n",
    "\n",
    "sun = chart.getObject(const.SUN)\n",
    "sun_sign = str(sun).split()[0][1:]\n"
   ]
  },
  {
   "cell_type": "code",
   "execution_count": 77,
   "id": "e775b4b0",
   "metadata": {},
   "outputs": [],
   "source": [
    "dictionary_signs = {\n",
    "    'Sun': {\n",
    "        'Aries': 'Você tem tudo para brilhar ao ser corajoso, assertivo e dinâmico. Você se sente vitalizado quando alcança cada dia mais independência. Tem tam- bém a capacidade de liderar de forma criativa e inspirada. É uma pessoa que se destaca ao motivar e entusiasmar as pessoas.Assuma seu poder autoafirmativo, seu dinamismo e sua disposição em desbravar o novo. Ao se arriscar, seguindo sua intuição e seu impulso assertivo, você obterá o merecido reconhecimento de ser alguém único, especial e repleto de vida.',\n",
    "        'Taurus': 'Você tem tudo para se destacar ao agir com praticidade, perseverança e cautela. Devagar se vai ao longe. Gradualmente, você conquista sua se- gurança e sua estabilidade, principalmente material e profissional. E isso lhe proporciona muita vitalidade.Você brilha ao ser um ponto de apoio para as pessoas. Sua postura firme e determinada ampara aqueles que precisam se sentir protegidos e apoiados. É, portanto, capaz de agir com simplicidade, competência e com um bom senso que harmoniza os ambientes e as pessoas. E, assim, obter o reconhecimento por ser essa pessoa que repercute a beleza, o conforto e o prazer por onde passa.',\n",
    "        'Gemini': 'Você pode se destacar através de suas habilidades mentais, intelec- tuais, manuais e comunicativas. Você brilha quando está se socializando, trocando ideias, aprendendo e compartilhando seus conhecimentos.Você se sente cheio de vida quando pode demonstrar sua versatilida- de e sua capacidade de entender questões complexas. E também te pro- porciona muita vitalidade o fato de conseguir escrever, falar, enfim, se comunicar de uma maneira que faça as pessoas arejarem suas mentes e entenderem outros pontos de vista.',\n",
    "        'Cancer': 'Você tende a brilhar quando desenvolve sua sensibilidade, seu espírito protetor e oferece segurança emocional às pessoas, principalmente de seu núcleo doméstico e familiar. Tende a se destacar através de sua imaginação, de seu dinamismo empreendedor e de sua capacidade de amparar emocionalmente as pessoas. Você se sente repleto de vida quando encara sua carência e amadurece sua maneira de lidar com as emoções. A conquista de segurança emocio- nal, familiar, doméstica e residencial também te deixa vitalizado.',\n",
    "        'Leo': 'Você se destaca ao se expressar com criatividade, inspiração e auto- confiança. Você se sente cheio de vida quando se expõe de forma firme, calorosa e entusiasmada. Tem o poder de brilhar ao liderar e motivar as pessoas. Quando mais assumir seu brilho criativo, sua luz interior, empolgando as pessoas através do que intui e expressa, mais cheio de vida você será. Reconheça seu desejo por reconhecimento pessoal, por receber a atenção por ser quem é. Uma saudável vaidade é tremendamente importante no seu caminho de vida. Você nasceu para influenciar as pessoas através de seu carisma e poder expressivo.',\n",
    "        'Virgo': 'Você brilha ao lidar com questões práticas, administrativas e que de- mandem um conhecimento especializado. Pode se destacar ao servir e ser útil às pessoas. Ao demonstrar sua eficiência e sua prestatividade, tem tudo para receber o merecido reconhecimento. Tem um jeito criativo de produzir e realizar suas metas, ainda mais se passar pelo paciente processo do planejamento e das constantes pesquisas a respeito daquilo que visa concretizar. Com perseverança, praticidade e senso de organização, você utiliza suas habilidades mentais, intelectuais e manuais de um jeito que te destaca.',\n",
    "        'Libra': 'Você pode se destacar por meio de seu senso de justiça, filosófico e artístico. Pois brilha quando aplica sua inteligência e sua capacidade de enxergar os vários lados de cada questão para estabelecer acordos justos. Quanto mais utiliza sua habilidade diplomática, estética e estratégica, mais se sente vitalizado. Tem tudo para usar criativamente seu poder de conciliar e unir pessoas, ideias e ambientes aparentemente divergentes. Isso te proporciona prazer e reconhecimento.',\n",
    "        'Scorpio': 'Você pode se destacar ao tratar de questões consideradas tabus ou sim- plesmente assumindo seu poder emocional, psíquico, financeiro, sexual e transformador. Pois você brilha ao superar crises e incentivar as pessoas a também renascerem. Tem a força de encarar o que não está tão aparente e agir com criatividade na expressão do que até então encontrava-se oculto, inconsciente, sob os véus do mistério. Sente-se repleto de vida quando reconhece determinados medos e in- veste corajosamente sua energia na superação dos mesmos. Daí o fato de poder obter o merecido reconhecimento por ser um agente catalisador de mudanças, principalmente por encarar com sabedoria a transitoriedade da vida e enxergar a força pessoal que se extrai das crises.',\n",
    "        'Sagittarius': 'Você tem tudo para brilhar ao usar sua intuição, sua inspiração e suas habilidades professorais. Porque você se destaca ao ampliar a mente das pes- soas, alargando os horizontes perceptivos delas. Principalmente pelo fato de que você se sente vitalizado ao questionar as coisas com um olhar filosófico. Por isso, você pode obter o merecido reconhecimento por ser uma pessoa voltada para compreender a vida e encontrar um sentido maior para a mesma. Especialmente através de uma expansão cultural, religiosa, acadêmica, espiritual, jurídica e existencial. Enxergar longe e mostrar essa visão ampla das coisas é algo que te deixa entusiasmado.',\n",
    "        'Capricorn': 'Você brilha ao demonstrar sua competência, sua produtividade e seu poder de influência social. Tem tudo para se destacar ao se preparar com muita paciência, praticidade e planejamento para assumir um papel de au- toridade na sociedade. Pode sentir-se vitalizado quando obtém o reconhecido por aquilo que empreende, produz e realiza. E essas ambições de conquistar um posição de sucesso, poder e respeitabilidade precisam ser assumidas com naturali- dade e criatividade. Desse modo, conquistará o merecido reconhecimento por agir de forma tão disciplinada e qualificada.',\n",
    "        'Aquarius': 'Você tem tudo para se destacar ao assumir seu jeito original de ser, pensar e se expressar. Porque você brilha quando compartilha suas ideias avançadas, sua intuição visionária e seus conhecimentos humanitários. Com espí- rito fraterno e unido a um grupo de pessoas de ideais semelhantes aos seus, pode exercer uma liderança criativa e promover mudanças na sociedade. Assim, você se sente vitalizado quando pensa diferente, quando estuda algo avançado e quando comunica seus conhecimentos. Aí obterá o mere- cido reconhecimento ao agir com esse humanitarismo. Ainda mais se sua individualidade se destacar e deixar sua marca na comunidade por meio da defesa de seus ideais sociais.',\n",
    "        'Piscis': 'Você tem tudo para brilhar ao se expressar de modo compassivo, ima- ginativo, artístico e sensível. Pois se destaca ao se doar e ajudar as pessoas, principalmente através de um saudável autossacrifício repleto de encanto, sabedoria e inspiração emocional. Obter o reconhecimento por ter uma afinidade com as questões espirituais, artísticas, oníricas, inconscientes e imaginativas pode demandar que aceite sua sensibilidade e reconheça a importância de momentos de solidão, reflexão e busca por uma sintonia com Deus/Vida.'\n",
    "    },\n",
    "    'Moon': {\n",
    "        'Aries': '',\n",
    "        'Taurus': '',\n",
    "        'Gemini': '',\n",
    "        'Cancer': '',\n",
    "        'Leo': '',\n",
    "        'Virgo': '',\n",
    "        'Libra': '',\n",
    "        'Scorpio': '',\n",
    "        'Sagittarius': '',\n",
    "        'Capricorn': '',\n",
    "        'Aquarius': '',\n",
    "        'Piscis': ''\n",
    "    },\n",
    "    'Mercury': {\n",
    "        'Aries': '',\n",
    "        'Taurus': '',\n",
    "        'Gemini': '',\n",
    "        'Cancer': '',\n",
    "        'Leo': '',\n",
    "        'Virgo': '',\n",
    "        'Libra': '',\n",
    "        'Scorpio': '',\n",
    "        'Sagittarius': '',\n",
    "        'Capricorn': '',\n",
    "        'Aquarius': '',\n",
    "        'Piscis': ''\n",
    "    },\n",
    "    'Mars': {\n",
    "        'Aries': '',\n",
    "        'Taurus': '',\n",
    "        'Gemini': '',\n",
    "        'Cancer': '',\n",
    "        'Leo': '',\n",
    "        'Virgo': '',\n",
    "        'Libra': '',\n",
    "        'Scorpio': '',\n",
    "        'Sagittarius': '',\n",
    "        'Capricorn': '',\n",
    "        'Aquarius': '',\n",
    "        'Piscis': ''\n",
    "    },\n",
    "    'Venus': {\n",
    "        'Aries': '',\n",
    "        'Taurus': '',\n",
    "        'Gemini': '',\n",
    "        'Cancer': '',\n",
    "        'Leo': '',\n",
    "        'Virgo': '',\n",
    "        'Libra': '',\n",
    "        'Scorpio': '',\n",
    "        'Sagittarius': '',\n",
    "        'Capricorn': '',\n",
    "        'Aquarius': '',\n",
    "        'Piscis': ''\n",
    "    },\n",
    "    'Jupiter': {\n",
    "        'Aries': '',\n",
    "        'Taurus': '',\n",
    "        'Gemini': '',\n",
    "        'Cancer': '',\n",
    "        'Leo': '',\n",
    "        'Virgo': '',\n",
    "        'Libra': '',\n",
    "        'Scorpio': '',\n",
    "        'Sagittarius': '',\n",
    "        'Capricorn': '',\n",
    "        'Aquarius': '',\n",
    "        'Piscis': ''\n",
    "    },\n",
    "    'Saturn': {\n",
    "        'Aries': '',\n",
    "        'Taurus': '',\n",
    "        'Gemini': '',\n",
    "        'Cancer': '',\n",
    "        'Leo': '',\n",
    "        'Virgo': '',\n",
    "        'Libra': '',\n",
    "        'Scorpio': '',\n",
    "        'Sagittarius': '',\n",
    "        'Capricorn': '',\n",
    "        'Aquarius': '',\n",
    "        'Piscis': ''\n",
    "    },\n",
    "}"
   ]
  },
  {
   "cell_type": "code",
   "execution_count": null,
   "id": "bd882e74",
   "metadata": {},
   "outputs": [],
   "source": [
    "planets_houses = {\n",
    "    'Sun': {\n",
    "        '1': 'A Casa em que o Sol se encontra revela a área da vida que temos tudo para nos destacar. Portanto, em seus projetos pessoais e ao apresentar sua imagem, você se destaca. Busca ter clareza sobre seu papel na sociedade, principalmente ao enfrentar os desafios da vida em seu processo de auto-afirmação. Ser independente, transmitir uma impressão brilhante, ter autonomia, exercer liderança em seus projetos pessoais são questões que você precisa se envolver para se sentir vitalizado. Agir com criatividade, inspiração e carisma também são questões que ganham visibilidade em sua vida. Afi- nal, todo astro que se encontra na Casa 1 toma proporções notórias, ainda mais se estiver próximo ao Ascendente.',\n",
    "        '2': 'Você tem tudo para se destacar ao lidar com questões práticas, materiais, financeiras e que envolvam o corpo (o bem-estar/a saúde). Envolver-se com a busca da segurança, da estabilidade e da prosperi- dade é algo que te deixa vitalizado. O astro que se encontra na Casa 2 também retrata os tipos de dons que temos para desenvolver e obtermos rendimentos financeiros com a respec- tiva expressão dos mesmos. Tendo o Sol aí, você tem o dom da criatividade, do bom-humor, da calorosidade, da expressividade e da inspiração. Ao ex- pressá-los, você tem tudo para ser recompensado financeiramente.',\n",
    "        '3': 'Você tem tudo para brilhar ao comunicar suas ideias, seus pensamen- tos e seus conhecimentos. Portanto, o que te deixa repleto de vitalidade é estudar, pesquisar, se informar, aprender e se envolver em intercâmbios intelectuais. Com sua habilidade de usas as palavras com clareza, criatividade e ex- pressividade, sua inspiração comunicativa lhe permitirá ser reconhecido. Pois você tem o potencial de se destacar por meio de atividades mentais, intelectuais e comunicativas.',\n",
    "        '4': 'Ao ser uma fonte de inspiração, de criatividade e de calorosidade em seu ambiente doméstico, em sua esfera familiar e onde mora (bairro, cidade, estado, país), você tem tudo para brilhar, se destacar. Com sua clareza a respeito das questões familiares, emocionais, residenciais, você ilumina emoções, sonhos, heranças parentais e dinâmicas do inconsciente. E, assim, se sente vitalizado e com autoconfiança. Portanto, buscar segurança emocional, residencial e privada, podendo nutrir as pessoas de modo todo especial e único, principalmente as que compartilham de seu mundo privado, você obtém reconhecimento e sente muito prazer. ',\n",
    "        '5': 'Ao se envolver com crianças, com jogos, diversões, atividades lúdicas e projetos criativos, você tem tudo para brilhar. Sente prazer ao se expressar com criatividade, clareza, autoconfiança e ocupando o centro do palco. O que te deixa vitalizado é encontrar meios de se destacar através da exposição de sua identidade, reafirmando a sua personalidade de um modo inspirado e honrado. ',\n",
    "        '6': 'Você tem a capacidade de se destacar ao procurar ser útil às pessoas no dia-a-dia e no ambiente de trabalho. Porque tem o dom de levar sua criatividade, sua clareza e seu brilho interior aos eventos cotidianos, servindo às pessoas com muita competência. Portanto, lidar com clareza e inspiração com assuntos envolvendo saúde/corpo, autoaperfeiçoamento pessoal e técnico, bem como com circunstâncias práticas, organizacionais, metodológicas e até burocráticas, é algo que te proporciona vitalidade. Além, claro, de poder receber reconhecimento ao agir com essa postura prática, produtiva e eficiente.',\n",
    "        '7': 'Você tem tudo para brilhar através de suas parcerias, sejam afetivas ou de negócios. Relacionar com as pessoas, estabelecer acordos e uniões é algo que te faz brilhar e que te proporciona vitalidade. Tanto é que pessoas com esse posicionamento de Sol na Casa 7 são capazes de trazer calorosidade, animação, inspiração e clareza (Sol) à vida dos outros (Casa 7).  Mas, antes disso, você pode ter de enfrentar algumas projeções. Ou seja, você precisa resgatar seu brilho interior, seu poder pessoal e sua individualidade de pessoas sobre as quais projetou o melhor, o magnânimo, o honroso. Ao fazer essas projeções antes de recolhê-las e aceitar como uma faceta de sua personalidade a ser conscientizada e expressada, pôde atrair - ou pode atrair - gente muito orgulhosa, vaidosa, egoísta e arrogante. Ou gente com complexo de inferioridade, sem brilho interior, muito insegura e sem um pingo de autoconfiança. Resgatando esse lado brilhante, caloroso, criativo e inspirador que te pertence, pode aquecer o coração das pessoas com a sua simples presença e expressividade. ',\n",
    "        '8': 'Você tem tudo para brilhar ao ser um agente catalisador de mudanças na vida das pessoas, principalmente daquelas que vivem crises emocionais, sexuais, financeiras, psíquicas e íntimas. Porque você tem o talento de trazer clareza ao lado mais escuro da natureza humana. Portanto, procure sempre mergulhar em seus desejos mais profundos e em seus medos mais intensos, a fim de descobrir as causas dos mesmos e o quanto eles podem tanto destruir quanto construir. Consciente desse lado “sombrio” de si mesmo, compreendendo-o e sabendo expressá-lo de forma criativa, inspirada e construtiva, você naturalmente ofertará seu brilho e sua calorosidade para que outras pessoas também passem por esse processo.',\n",
    "        '9': 'Você tem tudo para brilhar ao ensinar, ao transmitir suas percepções a res- peito do ser humano e dos princípios que regem a vida. Porque se sente cheio de vida quando viaja, faz cursos, questiona, pesquisa e amplia sua mente. Com essa percepção expandida, você se sente confiante para propagar o que compreendeu e intuiu sobre aquilo que buscou saber. Essa clareza filosófica, cultural, acadêmica, jurídica, religiosa, espiritual e/ou existencial te faz brilhar quando compartilha sua visão de mundo. Então, assumir o papel de professor, condutor, aconselhador e inspirador te proporciona vitalidade, autoestima e reconhecimento. Enfim, te proporciona muito prazer espalhar com criatividade e calorosidade aquilo que sabe.',\n",
    "        '10': 'Você tem tudo para brilhar ao assumir uma posição de autoridade, de responsabilidade, de influência e de realização. Você, ao empreender planos de ação para concretizar suas elevadas ambições, se destaca. Tende a sentir prazer com o poder e com o desempenho competente de suas metas pessoais e profissionais. Alcançar o sucesso e obter a respeitabilidade social-profissional é algo que te proporciona vitalidade, entusiasmo e autoestima. Utilize esse carisma, essa força pessoa, essa expressividade e essa consciência em seu trabalho, em sua profissão, em sua vocação.',\n",
    "        '11': 'Você tem tudo para brilhar ao dar sua contribuição à sociedade, seja através da participação em algum grupo, na comunidade ou em um movimento social. Porque sente prazer em se destacar por meio de seu lado progressista e humanitário. Sente-se cheio de vida quando está entre amigos, em eventos sociais e compartilhando suas ideias originais. Ao agir de forma criativa, calorosa e inspirada quando demonstra seu espírito fraterno, isso lhe proporciona autoconfiança e também o reconhecimento.',\n",
    "        '12': 'Você tem tudo para brilhar em atividades artísticas, emocionais, psíquicas, mediúnicas, oníricas, imaginativas e doadoras, seja em instituições de caridade ou informalmente. Ao agir com criatividade, inspiração e calorosidade ao se doar, você pode se sentir cheio de vida e obter o reconhecimento. '\n",
    "    },\n",
    "    'Moon': {\n",
    "        '1': '',\n",
    "        '2': '',\n",
    "        '3': '',\n",
    "        '4': '',\n",
    "        '5': '',\n",
    "        '6': '',\n",
    "        '7': '',\n",
    "        '8': '',\n",
    "        '9': '',\n",
    "        '10': '',\n",
    "        '11': '',\n",
    "        '12': ''\n",
    "    }\n",
    "}"
   ]
  },
  {
   "cell_type": "code",
   "execution_count": 78,
   "id": "94ffd884",
   "metadata": {},
   "outputs": [
    {
     "name": "stdout",
     "output_type": "stream",
     "text": [
      "Você tem tudo para se destacar ao assumir seu jeito original de ser, pensar e se expressar. Porque você brilha quando compartilha suas ideias avançadas, sua intuição visionária e seus conhecimentos humanitários. Com espí- rito fraterno e unido a um grupo de pessoas de ideais semelhantes aos seus, pode exercer uma liderança criativa e promover mudanças na sociedade. Assim, você se sente vitalizado quando pensa diferente, quando estuda algo avançado e quando comunica seus conhecimentos. Aí obterá o mere- cido reconhecimento ao agir com esse humanitarismo. Ainda mais se sua individualidade se destacar e deixar sua marca na comunidade por meio da defesa de seus ideais sociais.\n"
     ]
    }
   ],
   "source": [
    "print(dictionary_signs[sun_sign][sun.sign])"
   ]
  },
  {
   "cell_type": "code",
   "execution_count": null,
   "id": "5f679242",
   "metadata": {},
   "outputs": [],
   "source": []
  }
 ],
 "metadata": {
  "kernelspec": {
   "display_name": "Python 3 (ipykernel)",
   "language": "python",
   "name": "python3"
  },
  "language_info": {
   "codemirror_mode": {
    "name": "ipython",
    "version": 3
   },
   "file_extension": ".py",
   "mimetype": "text/x-python",
   "name": "python",
   "nbconvert_exporter": "python",
   "pygments_lexer": "ipython3",
   "version": "3.8.2"
  }
 },
 "nbformat": 4,
 "nbformat_minor": 5
}

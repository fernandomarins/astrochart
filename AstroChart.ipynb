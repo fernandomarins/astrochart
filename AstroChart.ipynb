{
 "cells": [
  {
   "cell_type": "markdown",
   "id": "1a65c662",
   "metadata": {},
   "source": [
    "# AstroChart\n",
    "\n",
    "## 1. Business Problem\n",
    "\n",
    "AstroChart é um web app que fornece todas as características do mapa astral.\n",
    "\n",
    "Os sites de hoje tem uma interpretação um pouco errônea sobre os posicionamentos planetários, por isso o AstroChart tem o objetivo de trazer algo mais próximo da realidade.\n",
    "\n",
    "## 2. Business Assumptions"
   ]
  },
  {
   "cell_type": "markdown",
   "id": "252c3c81",
   "metadata": {},
   "source": [
    "# ENTENDIMENTO DO NEGÓCIO"
   ]
  },
  {
   "cell_type": "markdown",
   "id": "d2f06ce3",
   "metadata": {},
   "source": [
    "Produto final:\n",
    "\n",
    "    - Um web app no Streamlit onde o usuário pode colocar a data e o loca de nascimento e recebe as informações necessárias\n",
    "    \n",
    "Ferramentas:\n",
    "\n",
    "    - Python 3.8\n",
    "    - Jupyter Notebook\n",
    "    - Sublime\n",
    "    - Biblioteca Flatlib\n",
    "    \n",
    "Processo:\n",
    "\n",
    "    - Converter local de nascimento para o tipo de dado que a biblioteca Flatlib precisa para retornar os dados necessários do mapa astral\n",
    "    - Implementar a API do Flatlib\n",
    "    - Testar\n",
    "    - Implementar os resultados no Streamlit"
   ]
  },
  {
   "cell_type": "code",
   "execution_count": 9,
   "id": "ba724a0c",
   "metadata": {},
   "outputs": [],
   "source": [
    "from flatlib.datetime import Datetime\n",
    "from flatlib.geopos import GeoPos\n",
    "from flatlib.chart import Chart\n",
    "from flatlib import const\n",
    "from geopy.geocoders import Nominatim"
   ]
  },
  {
   "cell_type": "code",
   "execution_count": 52,
   "id": "f0f1cf54",
   "metadata": {},
   "outputs": [],
   "source": [
    "def convert_coordinates(x, y):\n",
    "    \n",
    "    # check if the value is negative\n",
    "    if x < 0:\n",
    "        # convert to str\n",
    "        x = str(x)\n",
    "        # drop the first character\n",
    "        x = x[1:]\n",
    "        # split into two parts\n",
    "        x = x.split('.')\n",
    "        # addin the s letter for south\n",
    "        x = x[0] + 's' +  x[1]\n",
    "    else:\n",
    "        x = str(x)\n",
    "        x = x.split('.')\n",
    "        # if it's not negative, then add the letter n\n",
    "        x = x[0] + 'n' +  x[1]\n",
    "    if y < 0:\n",
    "        y = str(y)\n",
    "        y = y[1:]\n",
    "        y = y.split('.')\n",
    "        # here we need to add the letter e, for east\n",
    "        y = y[0] + 'e' +  y[1]\n",
    "    else:\n",
    "        y = str(y)\n",
    "        print(y)\n",
    "        y = y.split('.')\n",
    "        print(y)\n",
    "        # here we add the letter w for west\n",
    "        y = y[0] + 'w' +  y[1]\n",
    "        print(y)\n",
    "    \n",
    "    return (x, y)\n",
    "\n",
    "def return_coordinates(local):\n",
    "    geolocator = Nominatim(user_agent='geo')\n",
    "    location = geolocator.geocode(local, timeout=10000)\n",
    "    return (location.latitude, location.longitude)"
   ]
  },
  {
   "cell_type": "code",
   "execution_count": 56,
   "id": "140306da",
   "metadata": {},
   "outputs": [
    {
     "name": "stdout",
     "output_type": "stream",
     "text": [
      "('21s7886713', '48e1773096')\n"
     ]
    }
   ],
   "source": [
    "local = 'Araraquara'\n",
    "lat, long = return_coordinates(local)\n",
    "coord = convert_coordinates(lat, long)\n",
    "print(coord)"
   ]
  },
  {
   "cell_type": "code",
   "execution_count": 74,
   "id": "53194015",
   "metadata": {},
   "outputs": [
    {
     "name": "stdout",
     "output_type": "stream",
     "text": [
      "<class 'str'>\n"
     ]
    }
   ],
   "source": [
    "date = Datetime('1991/02/05', '18:31')\n",
    "#pos = GeoPos('21s7886713', '48e1773096')\n",
    "pos = GeoPos(coord[0], coord[1])\n",
    "chart = Chart(date, pos)\n",
    "\n",
    "sun = chart.getObject(const.SUN)\n",
    "sun_sign = str(sun).split()[0][1:]\n",
    "print(type(sun_sign))"
   ]
  },
  {
   "cell_type": "code",
   "execution_count": 77,
   "id": "56034b7c",
   "metadata": {},
   "outputs": [],
   "source": [
    "dictionary_signs = {\n",
    "    'Sun': {\n",
    "        'Aries': 'Você tem tudo para brilhar ao ser corajoso, assertivo e dinâmico. Você se sente vitalizado quando alcança cada dia mais independência. Tem tam- bém a capacidade de liderar de forma criativa e inspirada. É uma pessoa que se destaca ao motivar e entusiasmar as pessoas.Assuma seu poder autoafirmativo, seu dinamismo e sua disposição em desbravar o novo. Ao se arriscar, seguindo sua intuição e seu impulso assertivo, você obterá o merecido reconhecimento de ser alguém único, especial e repleto de vida.',\n",
    "        'Taurus': 'Você tem tudo para se destacar ao agir com praticidade, perseverança e cautela. Devagar se vai ao longe. Gradualmente, você conquista sua se- gurança e sua estabilidade, principalmente material e profissional. E isso lhe proporciona muita vitalidade.Você brilha ao ser um ponto de apoio para as pessoas. Sua postura firme e determinada ampara aqueles que precisam se sentir protegidos e apoiados. É, portanto, capaz de agir com simplicidade, competência e com um bom senso que harmoniza os ambientes e as pessoas. E, assim, obter o reconhecimento por ser essa pessoa que repercute a beleza, o conforto e o prazer por onde passa.',\n",
    "        'Gemini': 'Você pode se destacar através de suas habilidades mentais, intelec- tuais, manuais e comunicativas. Você brilha quando está se socializando, trocando ideias, aprendendo e compartilhando seus conhecimentos.Você se sente cheio de vida quando pode demonstrar sua versatilida- de e sua capacidade de entender questões complexas. E também te pro- porciona muita vitalidade o fato de conseguir escrever, falar, enfim, se comunicar de uma maneira que faça as pessoas arejarem suas mentes e entenderem outros pontos de vista.',\n",
    "        'Cancer': 'Você tende a brilhar quando desenvolve sua sensibilidade, seu espírito protetor e oferece segurança emocional às pessoas, principalmente de seu núcleo doméstico e familiar. Tende a se destacar através de sua imaginação, de seu dinamismo empreendedor e de sua capacidade de amparar emocionalmente as pessoas. Você se sente repleto de vida quando encara sua carência e amadurece sua maneira de lidar com as emoções. A conquista de segurança emocio- nal, familiar, doméstica e residencial também te deixa vitalizado.',\n",
    "        'Leo': 'Você se destaca ao se expressar com criatividade, inspiração e auto- confiança. Você se sente cheio de vida quando se expõe de forma firme, calorosa e entusiasmada. Tem o poder de brilhar ao liderar e motivar as pessoas. Quando mais assumir seu brilho criativo, sua luz interior, empolgando as pessoas através do que intui e expressa, mais cheio de vida você será. Reconheça seu desejo por reconhecimento pessoal, por receber a atenção por ser quem é. Uma saudável vaidade é tremendamente importante no seu caminho de vida. Você nasceu para influenciar as pessoas através de seu carisma e poder expressivo.',\n",
    "        'Virgo': 'Você brilha ao lidar com questões práticas, administrativas e que de- mandem um conhecimento especializado. Pode se destacar ao servir e ser útil às pessoas. Ao demonstrar sua eficiência e sua prestatividade, tem tudo para receber o merecido reconhecimento. Tem um jeito criativo de produzir e realizar suas metas, ainda mais se passar pelo paciente processo do planejamento e das constantes pesquisas a respeito daquilo que visa concretizar. Com perseverança, praticidade e senso de organização, você utiliza suas habilidades mentais, intelectuais e manuais de um jeito que te destaca.',\n",
    "        'Libra': 'Você pode se destacar por meio de seu senso de justiça, filosófico e artístico. Pois brilha quando aplica sua inteligência e sua capacidade de enxergar os vários lados de cada questão para estabelecer acordos justos. Quanto mais utiliza sua habilidade diplomática, estética e estratégica, mais se sente vitalizado. Tem tudo para usar criativamente seu poder de conciliar e unir pessoas, ideias e ambientes aparentemente divergentes. Isso te proporciona prazer e reconhecimento.',\n",
    "        'Scorpio': 'Você pode se destacar ao tratar de questões consideradas tabus ou sim- plesmente assumindo seu poder emocional, psíquico, financeiro, sexual e transformador. Pois você brilha ao superar crises e incentivar as pessoas a também renascerem. Tem a força de encarar o que não está tão aparente e agir com criatividade na expressão do que até então encontrava-se oculto, inconsciente, sob os véus do mistério. Sente-se repleto de vida quando reconhece determinados medos e in- veste corajosamente sua energia na superação dos mesmos. Daí o fato de poder obter o merecido reconhecimento por ser um agente catalisador de mudanças, principalmente por encarar com sabedoria a transitoriedade da vida e enxergar a força pessoal que se extrai das crises.',\n",
    "        'Sagittarius': 'Você tem tudo para brilhar ao usar sua intuição, sua inspiração e suas habilidades professorais. Porque você se destaca ao ampliar a mente das pes- soas, alargando os horizontes perceptivos delas. Principalmente pelo fato de que você se sente vitalizado ao questionar as coisas com um olhar filosófico. Por isso, você pode obter o merecido reconhecimento por ser uma pessoa voltada para compreender a vida e encontrar um sentido maior para a mesma. Especialmente através de uma expansão cultural, religiosa, acadêmica, espiritual, jurídica e existencial. Enxergar longe e mostrar essa visão ampla das coisas é algo que te deixa entusiasmado.',\n",
    "        'Capricorn': 'Você brilha ao demonstrar sua competência, sua produtividade e seu poder de influência social. Tem tudo para se destacar ao se preparar com muita paciência, praticidade e planejamento para assumir um papel de au- toridade na sociedade. Pode sentir-se vitalizado quando obtém o reconhecido por aquilo que empreende, produz e realiza. E essas ambições de conquistar um posição de sucesso, poder e respeitabilidade precisam ser assumidas com naturali- dade e criatividade. Desse modo, conquistará o merecido reconhecimento por agir de forma tão disciplinada e qualificada.',\n",
    "        'Aquarius': 'Você tem tudo para se destacar ao assumir seu jeito original de ser, pensar e se expressar. Porque você brilha quando compartilha suas ideias avançadas, sua intuição visionária e seus conhecimentos humanitários. Com espí- rito fraterno e unido a um grupo de pessoas de ideais semelhantes aos seus, pode exercer uma liderança criativa e promover mudanças na sociedade. Assim, você se sente vitalizado quando pensa diferente, quando estuda algo avançado e quando comunica seus conhecimentos. Aí obterá o mere- cido reconhecimento ao agir com esse humanitarismo. Ainda mais se sua individualidade se destacar e deixar sua marca na comunidade por meio da defesa de seus ideais sociais.',\n",
    "        'Piscis': 'Você tem tudo para brilhar ao se expressar de modo compassivo, ima- ginativo, artístico e sensível. Pois se destaca ao se doar e ajudar as pessoas, principalmente através de um saudável autossacrifício repleto de encanto, sabedoria e inspiração emocional. Obter o reconhecimento por ter uma afinidade com as questões espirituais, artísticas, oníricas, inconscientes e imaginativas pode demandar que aceite sua sensibilidade e reconheça a importância de momentos de solidão, reflexão e busca por uma sintonia com Deus/Vida.'\n",
    "    },\n",
    "    'Moon': {\n",
    "        'Aries': '',\n",
    "        'Taurus': '',\n",
    "        'Gemini': '',\n",
    "        'Cancer': '',\n",
    "        'Leo': '',\n",
    "        'Virgo': '',\n",
    "        'Libra': '',\n",
    "        'Scorpio': '',\n",
    "        'Sagittarius': '',\n",
    "        'Capricorn': '',\n",
    "        'Aquarius': '',\n",
    "        'Piscis': ''\n",
    "    }\n",
    "}"
   ]
  },
  {
   "cell_type": "code",
   "execution_count": 78,
   "id": "e7d3ad3c",
   "metadata": {},
   "outputs": [
    {
     "name": "stdout",
     "output_type": "stream",
     "text": [
      "Você tem tudo para se destacar ao assumir seu jeito original de ser, pensar e se expressar. Porque você brilha quando compartilha suas ideias avançadas, sua intuição visionária e seus conhecimentos humanitários. Com espí- rito fraterno e unido a um grupo de pessoas de ideais semelhantes aos seus, pode exercer uma liderança criativa e promover mudanças na sociedade. Assim, você se sente vitalizado quando pensa diferente, quando estuda algo avançado e quando comunica seus conhecimentos. Aí obterá o mere- cido reconhecimento ao agir com esse humanitarismo. Ainda mais se sua individualidade se destacar e deixar sua marca na comunidade por meio da defesa de seus ideais sociais.\n"
     ]
    }
   ],
   "source": [
    "print(dictionary_signs[sun_sign][sun.sign])"
   ]
  },
  {
   "cell_type": "code",
   "execution_count": null,
   "id": "cab24fa6",
   "metadata": {},
   "outputs": [],
   "source": []
  }
 ],
 "metadata": {
  "kernelspec": {
   "display_name": "Python 3 (ipykernel)",
   "language": "python",
   "name": "python3"
  },
  "language_info": {
   "codemirror_mode": {
    "name": "ipython",
    "version": 3
   },
   "file_extension": ".py",
   "mimetype": "text/x-python",
   "name": "python",
   "nbconvert_exporter": "python",
   "pygments_lexer": "ipython3",
   "version": "3.8.2"
  }
 },
 "nbformat": 4,
 "nbformat_minor": 5
}
